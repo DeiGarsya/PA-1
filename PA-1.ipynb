{
 "cells": [
  {
   "cell_type": "code",
   "execution_count": 29,
   "id": "6626dc18-7b38-4d5c-a1e9-be6b03860cb9",
   "metadata": {},
   "outputs": [
    {
     "name": "stdin",
     "output_type": "stream",
     "text": [
      "type a word to sort: alphabet\n"
     ]
    },
    {
     "name": "stdout",
     "output_type": "stream",
     "text": [
      "aabehlpt\n"
     ]
    }
   ],
   "source": [
    "#Declare the function\n",
    "def alphabet_soup(y):\n",
    "\n",
    "    #sorts the letters in the given string alphabetically in to a list\n",
    "    sorted(y)\n",
    "    #join the sorted letters in the list to form a new string\n",
    "    string=\"\".join(sorted(y))\n",
    "    #prints the string of sorted letters\n",
    "    print(string)\n",
    "\n",
    "#input what word you want to sort alphabetically\n",
    "x = input(\"type a word to sort:\")\n",
    "#Performs the function on the string given above\n",
    "alphabet_soup(x)"
   ]
  },
  {
   "cell_type": "code",
   "execution_count": 49,
   "id": "d22c0fed-50a9-4938-b157-29ff5bf583c5",
   "metadata": {},
   "outputs": [
    {
     "name": "stdin",
     "output_type": "stream",
     "text": [
      "Type a sentence: I am Mad\n"
     ]
    },
    {
     "name": "stdout",
     "output_type": "stream",
     "text": [
      "I am >:(\n"
     ]
    }
   ],
   "source": [
    "#Declare the function \n",
    "def emotify(emoji):\n",
    "    #Define what words in the string to replace with the given emoticon with the .replace operation\n",
    "    emoji = emoji.replace(\"Smile\", \":)\")\n",
    "    emoji = emoji.replace(\"Grin\",\":D\")\n",
    "    emoji = emoji.replace(\"Sad\",\":(\")\n",
    "    emoji = emoji.replace(\"Mad\",\">:(\")\n",
    "    #return to retain the value of the variable \n",
    "    return emoji\n",
    "    \n",
    "#Input a sentence \n",
    "emoji = input(\"Type a sentence:\")\n",
    "#Print the string undergone the function\n",
    "print(emotify(emoji))"
   ]
  },
  {
   "cell_type": "code",
   "execution_count": 61,
   "id": "0ba73c19-f564-4dea-a23b-23f66e2e7c53",
   "metadata": {},
   "outputs": [
    {
     "name": "stdout",
     "output_type": "stream",
     "text": [
      "First: 1\n",
      "middle: [2, 3, 4, 5]\n",
      "Last: 6\n"
     ]
    }
   ],
   "source": [
    "#Declares the list writeyourcodehere\n",
    "writeyourcodehere = [1,2,3,4,5,6] \n",
    "#prints the first value on the list with the index of 0\n",
    "print(\"First:\", writeyourcodehere[0]) \n",
    "\n",
    "#prints the second value in the list (1) up to the second to the last (-1)\n",
    "print(\"middle:\", writeyourcodehere[1:-1]) \n",
    "\n",
    "#prints the last value in the list with the index of -1\n",
    "print(\"Last:\", writeyourcodehere[-1])"
   ]
  },
  {
   "cell_type": "code",
   "execution_count": null,
   "id": "6b71ca2d-36db-4630-a565-6a41cfc8d236",
   "metadata": {},
   "outputs": [],
   "source": []
  },
  {
   "cell_type": "code",
   "execution_count": null,
   "id": "118112e4-af14-496b-86a6-f234f2203e08",
   "metadata": {},
   "outputs": [],
   "source": []
  }
 ],
 "metadata": {
  "kernelspec": {
   "display_name": "Python 3 (ipykernel)",
   "language": "python",
   "name": "python3"
  },
  "language_info": {
   "codemirror_mode": {
    "name": "ipython",
    "version": 3
   },
   "file_extension": ".py",
   "mimetype": "text/x-python",
   "name": "python",
   "nbconvert_exporter": "python",
   "pygments_lexer": "ipython3",
   "version": "3.12.4"
  }
 },
 "nbformat": 4,
 "nbformat_minor": 5
}
