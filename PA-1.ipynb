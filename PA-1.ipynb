{
 "cells": [
  {
   "cell_type": "code",
   "execution_count": 29,
   "id": "6626dc18-7b38-4d5c-a1e9-be6b03860cb9",
   "metadata": {},
   "outputs": [
    {
     "name": "stdin",
     "output_type": "stream",
     "text": [
      "type a word to sort: alphabet\n"
     ]
    },
    {
     "name": "stdout",
     "output_type": "stream",
     "text": [
      "aabehlpt\n"
     ]
    }
   ],
   "source": [
    "def alphabet_soup(y):\n",
    "    sorted(y)\n",
    "    string=\"\".join(sorted(y))\n",
    "    print(string)\n",
    "\n",
    "x = input(\"type a word to sort:\")\n",
    "alphabet_soup(x)"
   ]
  },
  {
   "cell_type": "code",
   "execution_count": 31,
   "id": "d22c0fed-50a9-4938-b157-29ff5bf583c5",
   "metadata": {},
   "outputs": [
    {
     "name": "stdin",
     "output_type": "stream",
     "text": [
      "Type a sentence: I am Mad\n"
     ]
    },
    {
     "name": "stdout",
     "output_type": "stream",
     "text": [
      "I am >:(\n"
     ]
    }
   ],
   "source": [
    "def emotify(emoji):\n",
    "    emoji = emoji.replace(\"Smile\", \":)\")\n",
    "    emoji = emoji.replace(\"Grin\",\":D\")\n",
    "    emoji = emoji.replace(\"Sad\",\":(\")\n",
    "    emoji = emoji.replace(\"Mad\",\">:(\")\n",
    "    return emoji\n",
    "emoji = input(\"Type a sentence:\")\n",
    "sentence = emotify(emoji)\n",
    "print(sentence)"
   ]
  },
  {
   "cell_type": "code",
   "execution_count": 33,
   "id": "0ba73c19-f564-4dea-a23b-23f66e2e7c53",
   "metadata": {},
   "outputs": [
    {
     "name": "stdout",
     "output_type": "stream",
     "text": [
      "First: 1\n",
      "middle: [2, 3, 4, 5]\n",
      "Last: 6\n"
     ]
    }
   ],
   "source": [
    "writeyourcodehere = [1,2,3,4,5,6,] \n",
    "no = len(writeyourcodehere) \n",
    "mid = no-1\n",
    "first = writeyourcodehere[0] \n",
    "middle = writeyourcodehere[1:-1]\n",
    "last = writeyourcodehere[-1]\n",
    "print(\"First:\", first) \n",
    "print(\"middle:\", middle) \n",
    "print(\"Last:\", last)"
   ]
  },
  {
   "cell_type": "code",
   "execution_count": null,
   "id": "6b71ca2d-36db-4630-a565-6a41cfc8d236",
   "metadata": {},
   "outputs": [],
   "source": []
  }
 ],
 "metadata": {
  "kernelspec": {
   "display_name": "Python 3 (ipykernel)",
   "language": "python",
   "name": "python3"
  },
  "language_info": {
   "codemirror_mode": {
    "name": "ipython",
    "version": 3
   },
   "file_extension": ".py",
   "mimetype": "text/x-python",
   "name": "python",
   "nbconvert_exporter": "python",
   "pygments_lexer": "ipython3",
   "version": "3.12.4"
  }
 },
 "nbformat": 4,
 "nbformat_minor": 5
}
